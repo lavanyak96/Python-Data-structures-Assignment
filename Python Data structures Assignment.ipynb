{
 "cells": [
  {
   "cell_type": "markdown",
   "id": "39266075-69fd-4070-b472-a72c82f1561a",
   "metadata": {},
   "source": [
    "Q1. How do you comment code in Python? What are the different types of comments?"
   ]
  },
  {
   "cell_type": "markdown",
   "id": "1410e331-145b-4bda-b914-1d572f8df5cb",
   "metadata": {},
   "source": [
    "In Python, code can be commented using 2 types of commenting techniques.\n",
    "\n",
    "1. single line comments : This type starts with '#' continued until the end of the line.\n",
    "\n",
    "Ex:\n"
   ]
  },
  {
   "cell_type": "code",
   "execution_count": 1,
   "id": "0e4522a7-0130-400f-bdd6-0909fd9a3ce0",
   "metadata": {},
   "outputs": [
    {
     "data": {
      "text/plain": [
       "5.0"
      ]
     },
     "execution_count": 1,
     "metadata": {},
     "output_type": "execute_result"
    }
   ],
   "source": [
    "#This is a single line comment \n",
    "\n",
    "25/5 #This is a calculation"
   ]
  },
  {
   "cell_type": "markdown",
   "id": "f2fe1e3d-a306-4f68-be5b-079366d56733",
   "metadata": {},
   "source": [
    "2. Multi-lined comments : This type uses triple-quotes(''' - ''') and the information can be written in multiple lines. This type can be used to store longer sections of code , functions, classes etc.\n",
    "Ex:"
   ]
  },
  {
   "cell_type": "code",
   "execution_count": 2,
   "id": "05899fba-cdeb-4641-8616-248ee297c17a",
   "metadata": {},
   "outputs": [
    {
     "data": {
      "text/plain": [
       "'\\nThis is a multi-line comment or docstring.\\nIt can span multiple lines and is often used to document functions and classes.\\n'"
      ]
     },
     "execution_count": 2,
     "metadata": {},
     "output_type": "execute_result"
    }
   ],
   "source": [
    "'''\n",
    "This is a multi-line comment or docstring.\n",
    "It can span multiple lines and is often used to document functions and classes.\n",
    "'''"
   ]
  },
  {
   "cell_type": "markdown",
   "id": "00765533-8672-44e8-807b-13716fa43b3c",
   "metadata": {},
   "source": [
    " "
   ]
  },
  {
   "cell_type": "markdown",
   "id": "7f17ea60-1307-4e68-95ac-9396a2db3bf5",
   "metadata": {},
   "source": [
    "Q2. What are variables in Python? How do you declare and assign values to variables?"
   ]
  },
  {
   "cell_type": "markdown",
   "id": "457b9703-ae10-4088-928e-a487b0432b53",
   "metadata": {},
   "source": [
    "Variables are used to store and manage data. It is like a vessel that contains values. Numerous operations can be done on the value using variable name. Unlike in other programming languages, in python, there's no need to declare the type of variable. we can simply create a variable by assigning a value to it. Variable names must start with a letter (a-z, A-Z) or an underscore (_). The remaining characters can be letters, digits (0-9), or underscores.Variable names are case-sensitive, so 'my_variable' and 'My_Variable' are different variables.\n",
    "\n",
    "ex:"
   ]
  },
  {
   "cell_type": "code",
   "execution_count": 3,
   "id": "40c46ebd-8856-4ecf-b92e-c1a91cde8ce5",
   "metadata": {},
   "outputs": [],
   "source": [
    "my_variable = 45"
   ]
  },
  {
   "cell_type": "markdown",
   "id": "36b5b3ce-6626-4f6c-9d97-84547f04ea18",
   "metadata": {},
   "source": [
    "  "
   ]
  },
  {
   "cell_type": "markdown",
   "id": "54665345-713f-4b41-8106-da2bd7548183",
   "metadata": {},
   "source": [
    "Q3. How do you convert one data type to another in Python?"
   ]
  },
  {
   "cell_type": "markdown",
   "id": "8fec7528-40be-4659-a643-ef1197ec32dd",
   "metadata": {},
   "source": [
    "We can explicitly convert one data type to another using predefined functions like int(), float(), str(), list(), tuple(), and bool(). This is called Type Casting."
   ]
  },
  {
   "cell_type": "code",
   "execution_count": 4,
   "id": "ecea5311-83e8-46bf-9e33-d25225e734af",
   "metadata": {},
   "outputs": [],
   "source": [
    "x = 3.5\n",
    "y = int(x)  # Converts the float 'x' to an integer"
   ]
  },
  {
   "cell_type": "markdown",
   "id": "c2fa4818-f790-4f5b-b170-5037d9e9dc01",
   "metadata": {},
   "source": [
    "  "
   ]
  },
  {
   "cell_type": "markdown",
   "id": "fc5c7983-a765-44db-ad6e-a5de0d631743",
   "metadata": {},
   "source": [
    "Q4. How do you write and execute a Python script from the command line?"
   ]
  },
  {
   "cell_type": "markdown",
   "id": "505983c6-37d0-480f-b40a-6ed079506b05",
   "metadata": {},
   "source": [
    "1.Create a text file with \".py\" extension to write a Python script.\n",
    "2.Open the operating system's Command Prompt.\n",
    "3.Use the cd (change directory) command to navigate to the directory where we saved our Python script. For example:\n",
    "'cd /path/to/script/directory'.\n",
    "4.To execute the Python script, we can use the python command followed by the name of our script file. For example:\n",
    "'python hello.py'.\n",
    "5.This command will run the Python script, and we should see the output \"Hello, World!\" printed to the console."
   ]
  },
  {
   "cell_type": "markdown",
   "id": "6b34ea7f-ad90-40ac-b41e-b4058871de14",
   "metadata": {},
   "source": [
    "  "
   ]
  },
  {
   "cell_type": "markdown",
   "id": "7488bb21-d1de-4c1c-8574-1ee31cd1b80e",
   "metadata": {},
   "source": [
    "Q5. Given a list my_list = [1, 2, 3, 4, 5], write the code to slice the list and obtain the sub-list [2, 3]."
   ]
  },
  {
   "cell_type": "code",
   "execution_count": 8,
   "id": "c69535e2-d729-40e7-9059-83e1ccb47a16",
   "metadata": {},
   "outputs": [
    {
     "data": {
      "text/plain": [
       "[2, 3]"
      ]
     },
     "execution_count": 8,
     "metadata": {},
     "output_type": "execute_result"
    }
   ],
   "source": [
    "my_list = [1, 2, 3, 4, 5]\n",
    "\n",
    "my_list[1:3]"
   ]
  },
  {
   "cell_type": "markdown",
   "id": "312947e6-b9a7-4210-9cab-d1a6d17fddff",
   "metadata": {},
   "source": [
    "  "
   ]
  },
  {
   "cell_type": "markdown",
   "id": "568af0f0-a12b-4764-a3a5-f0ae9027fef2",
   "metadata": {},
   "source": [
    "Q6. What is a complex number in mathematics, and how is it represented in Python?"
   ]
  },
  {
   "cell_type": "markdown",
   "id": "5cc84ee3-4e26-4ea3-816f-80a1787e341c",
   "metadata": {},
   "source": [
    "Complex number is a number that can be expressed in the form \"a + bi\", where a and b are real numbers, and i is the imaginary unit. The real partrepresents the part of the number that exists on the real number line. It can be positive, negative, or zero. The imaginary part represents the part of the number that is a multiple of the imaginary unit i. It can also be positive, negative, or zero. The imaginary unit is defined as i = sqrt(-1). It is a mathematical abstraction that allows us to work with numbers that have no real square root.\n",
    "\n",
    "In Python, complex numbers are represented using the complex data type. Complex numbers are created by using the j suffix to denote the imaginary unit, j being equivalent to i in mathematical notation. You can use real and imag attributes to access the real and imaginary parts of a complex number."
   ]
  },
  {
   "cell_type": "code",
   "execution_count": 11,
   "id": "eae2efeb-48f2-42bd-96d4-01b2f9f8a3c9",
   "metadata": {},
   "outputs": [
    {
     "data": {
      "text/plain": [
       "(3.0, 4.0)"
      ]
     },
     "execution_count": 11,
     "metadata": {},
     "output_type": "execute_result"
    }
   ],
   "source": [
    "# Creating complex numbers\n",
    "z1 = 3 + 4j  # 3 is the real part, 4 is the imaginary part\n",
    "z2 = 2 - 5j  # 2 is the real part, -5 is the imaginary part\n",
    "\n",
    "# Accessing real and imaginary parts\n",
    "real_part = z1.real  # 3.0\n",
    "imaginary_part = z1.imag  # 4.0\n",
    "\n",
    "real_part,imaginary_part"
   ]
  },
  {
   "cell_type": "markdown",
   "id": "663dd106-7cdd-4d3e-bfae-2beb07781c84",
   "metadata": {},
   "source": [
    "  "
   ]
  },
  {
   "cell_type": "markdown",
   "id": "14695d31-9bc2-4501-a276-72920311f6c3",
   "metadata": {},
   "source": [
    "Q7. What is the correct way to declare a variable named age and assign the value 25 to it?"
   ]
  },
  {
   "cell_type": "code",
   "execution_count": null,
   "id": "3f70d429-db87-4f65-9112-64875984938a",
   "metadata": {},
   "outputs": [],
   "source": [
    "age = 25\n",
    "\n",
    "#This line of code declares a variable named age and assigns the integer value 25 to it.\n"
   ]
  },
  {
   "cell_type": "markdown",
   "id": "65c11fcb-74f2-4255-adbe-828a7be06d02",
   "metadata": {},
   "source": [
    "No need to specify the data type of the variable explicitly; it will infer the data type based on the value assigned to it."
   ]
  },
  {
   "cell_type": "markdown",
   "id": "e606dab1-9d40-4008-80a3-942b9bc12190",
   "metadata": {},
   "source": [
    "  "
   ]
  },
  {
   "cell_type": "markdown",
   "id": "5210835d-8033-4a85-adfa-ba154ead99b0",
   "metadata": {},
   "source": [
    "Q8. Declare a variable named price and assign the value 9.99 to it. What data type does this variable\n",
    "belong to?"
   ]
  },
  {
   "cell_type": "code",
   "execution_count": 12,
   "id": "54d85406-eb3d-41bb-9099-9205bb45a387",
   "metadata": {},
   "outputs": [
    {
     "data": {
      "text/plain": [
       "float"
      ]
     },
     "execution_count": 12,
     "metadata": {},
     "output_type": "execute_result"
    }
   ],
   "source": [
    "price = 9.99\n",
    "\n",
    "type(price)"
   ]
  },
  {
   "cell_type": "markdown",
   "id": "77ec7f2f-13ec-4c81-bb3e-1e0fae7d8631",
   "metadata": {},
   "source": [
    "  "
   ]
  },
  {
   "cell_type": "markdown",
   "id": "59cf0400-b3fd-4a09-a080-0f55fd09a3de",
   "metadata": {},
   "source": [
    "Q9. Create a variable named name and assign your full name to it as a string. How would you print the\n",
    "value of this variable?"
   ]
  },
  {
   "cell_type": "code",
   "execution_count": 13,
   "id": "f887de2b-e88c-4254-b646-c8937b2c3d03",
   "metadata": {},
   "outputs": [
    {
     "name": "stdout",
     "output_type": "stream",
     "text": [
      "lavanya koripadu\n"
     ]
    }
   ],
   "source": [
    "name = 'lavanya koripadu'\n",
    "\n",
    "print(name)"
   ]
  },
  {
   "cell_type": "markdown",
   "id": "193ae2f6-8943-46cc-a32e-85a737df0044",
   "metadata": {},
   "source": [
    "  "
   ]
  },
  {
   "cell_type": "markdown",
   "id": "261bccd5-79f2-428e-979a-e3f9fb038f11",
   "metadata": {},
   "source": [
    "Q10. Given the string \"Hello, World!\", extract the substring \"World\"."
   ]
  },
  {
   "cell_type": "code",
   "execution_count": 16,
   "id": "03bd6770-a513-4db3-98bc-a2a90bbdc509",
   "metadata": {},
   "outputs": [
    {
     "name": "stdout",
     "output_type": "stream",
     "text": [
      "World!\n"
     ]
    }
   ],
   "source": [
    "#Assign to a variable\n",
    "\n",
    "var = \"Hello, World!\"\n",
    "print(var[7:]) "
   ]
  },
  {
   "cell_type": "code",
   "execution_count": 17,
   "id": "75cca345-0735-4e60-920e-a29186fbd56c",
   "metadata": {},
   "outputs": [
    {
     "name": "stdout",
     "output_type": "stream",
     "text": [
      "World!\n"
     ]
    }
   ],
   "source": [
    "# other way\n",
    "var = \"Hello, World!\"\n",
    "sub = var[7:]\n",
    "\n",
    "print(sub)"
   ]
  },
  {
   "cell_type": "markdown",
   "id": "d84ac360-dbe9-4d9a-bfe8-84f3e4df0695",
   "metadata": {},
   "source": [
    " "
   ]
  },
  {
   "cell_type": "markdown",
   "id": "16213d82-f120-40c0-9822-94a7b68c878f",
   "metadata": {},
   "source": [
    "Q11. Create a variable named \"is_student\" and assign it a boolean value indicating whether you are\n",
    "currently a student or not."
   ]
  },
  {
   "cell_type": "code",
   "execution_count": null,
   "id": "84f44231-cba7-478b-9d31-f5a483aa971a",
   "metadata": {},
   "outputs": [],
   "source": [
    "is_student = True"
   ]
  }
 ],
 "metadata": {
  "kernelspec": {
   "display_name": "Python 3 (ipykernel)",
   "language": "python",
   "name": "python3"
  },
  "language_info": {
   "codemirror_mode": {
    "name": "ipython",
    "version": 3
   },
   "file_extension": ".py",
   "mimetype": "text/x-python",
   "name": "python",
   "nbconvert_exporter": "python",
   "pygments_lexer": "ipython3",
   "version": "3.10.8"
  }
 },
 "nbformat": 4,
 "nbformat_minor": 5
}
